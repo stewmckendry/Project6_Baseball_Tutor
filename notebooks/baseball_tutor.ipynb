{
 "cells": [
  {
   "cell_type": "code",
   "execution_count": 5,
   "id": "eee77fba",
   "metadata": {},
   "outputs": [
    {
     "name": "stdout",
     "output_type": "stream",
     "text": [
      "🤔 Why does the Shortstop cover Second Base in this situation?\n",
      "🤔 As a Shortstop, what is your responsibility when it's GameState_2outs_Runner1?\n",
      "🤔 What play is likely when it’s GameState_2outs_Runner1? How should a Shortstop react?\n",
      "🤔 What should you be thinking about in this situation?\n"
     ]
    }
   ],
   "source": [
    "import sys\n",
    "import os\n",
    "sys.path.append(os.path.abspath(os.path.join(os.getcwd(), '..')))\n",
    "\n",
    "from src.utils.kg.kg_builder import build_baseball_kg\n",
    "from src.models.socratic_engine import generate_question\n",
    "\n",
    "G = build_baseball_kg()\n",
    "questions = generate_question(\"Shortstop\", \"GameState_2outs_Runner1\", G)\n",
    "questions += generate_question(\"First Baseman\", \"GameState_2outs_Runner3\", G)\n",
    "\n",
    "for q in questions:\n",
    "    print(\"🤔\", q)\n"
   ]
  },
  {
   "cell_type": "code",
   "execution_count": 6,
   "id": "4b360382",
   "metadata": {},
   "outputs": [
    {
     "name": "stdout",
     "output_type": "stream",
     "text": [
      "None\n"
     ]
    }
   ],
   "source": [
    "from pyvis.network import Network\n",
    "net = Network()\n",
    "print(net.template)  # should not be None"
   ]
  }
 ],
 "metadata": {
  "kernelspec": {
   "display_name": "Python (spaCy 3.11)",
   "language": "python",
   "name": "spacy_env"
  },
  "language_info": {
   "codemirror_mode": {
    "name": "ipython",
    "version": 3
   },
   "file_extension": ".py",
   "mimetype": "text/x-python",
   "name": "python",
   "nbconvert_exporter": "python",
   "pygments_lexer": "ipython3",
   "version": "3.11.8"
  }
 },
 "nbformat": 4,
 "nbformat_minor": 5
}
