{
 "cells": [
  {
   "cell_type": "code",
   "execution_count": 1,
   "id": "5cfab780",
   "metadata": {},
   "outputs": [],
   "source": [
    "# define libraries\n",
    "import os\n",
    "import sys\n",
    "from pathlib import Path\n",
    "\n",
    "sys.path.append(os.path.abspath(os.path.join(os.getcwd(), '..')))\n",
    "from src.models.llm_socratic import evaluate_answer_with_llm"
   ]
  },
  {
   "cell_type": "code",
   "execution_count": 3,
   "id": "e3dff5e0",
   "metadata": {},
   "outputs": [
    {
     "name": "stdout",
     "output_type": "stream",
     "text": [
      "🔁 LLM Feedback:\n",
      "Great thinking, but remember, with two outs we could potentially get out of the inning without needing to make a double play. It might be safer to make the sure out at first base, especially if the runner is slow. However, if you think you can make the double play, go for it! Can you tell me why making the sure out might be the better choice here?\n",
      "\n",
      "[PARTIAL]\n"
     ]
    }
   ],
   "source": [
    "# Define a sample test payload\n",
    "payload = {\n",
    "    \"player_name\": \"alex\",\n",
    "    \"position\": \"Shortstop\",\n",
    "    \"game_state\": \"2 outs, runners on 1st and 2nd\",\n",
    "    \"player_answer\": \"Throw to 2nd\",\n",
    "    \"recommended_actions\": [\"Throw to 2nd\", \"Throw to 1st\"],\n",
    "    \"explanation\": \"Shortstop should field the grounder, throw to 2nd for the force out, then relay to 1st for the double play.\"\n",
    "}\n",
    "\n",
    "# Run the LLM evaluator\n",
    "result = evaluate_answer_with_llm(payload)\n",
    "\n",
    "# Display result\n",
    "print(\"🔁 LLM Feedback:\")\n",
    "print(result[\"llm_feedback\"])\n"
   ]
  }
 ],
 "metadata": {
  "kernelspec": {
   "display_name": "Python (spaCy 3.11)",
   "language": "python",
   "name": "spacy_env"
  },
  "language_info": {
   "codemirror_mode": {
    "name": "ipython",
    "version": 3
   },
   "file_extension": ".py",
   "mimetype": "text/x-python",
   "name": "python",
   "nbconvert_exporter": "python",
   "pygments_lexer": "ipython3",
   "version": "3.11.8"
  }
 },
 "nbformat": 4,
 "nbformat_minor": 5
}
