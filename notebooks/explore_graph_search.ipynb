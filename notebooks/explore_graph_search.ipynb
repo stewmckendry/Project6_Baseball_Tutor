{
 "cells": [
  {
   "cell_type": "code",
   "execution_count": 1,
   "id": "66d28a6b",
   "metadata": {},
   "outputs": [],
   "source": [
    "# import libraries and functions\n",
    "import sys\n",
    "import os\n",
    "from pathlib import Path\n",
    "\n",
    "sys.path.append(os.path.abspath(os.path.join(os.getcwd(), '..')))\n",
    "from src.utils.kg.kg_loader import load_kg_from_yaml\n",
    "from src.models.socratic_engine import get_rich_context\n",
    "from src.models.llm_socratic import build_llm_prompt_from_context"
   ]
  },
  {
   "cell_type": "code",
   "execution_count": 2,
   "id": "e5c923e4",
   "metadata": {},
   "outputs": [
    {
     "name": "stdout",
     "output_type": "stream",
     "text": [
      "\n",
      "📊 Context Extracted:\n",
      "position: Left Field\n",
      "game_state: 0 outs, runner on 1st\n",
      "play: Fly ball to Left Field\n",
      "recommended_actions: [{'action': 'Catch the ball and throw to 1st base', 'order': 0}]\n",
      "key_concepts: ['Force out']\n",
      "explanation: Prevent the runner from advancing to 2nd base by forcing them out at 1st base.\n",
      "\n",
      "📝 LLM Prompt:\n",
      "The player is a Left Field in the situation: 0 outs, runner on 1st.\n",
      "The play is: Fly ball to Left Field.\n",
      "\n",
      "Recommended actions (in order):\n",
      "Catch the ball and throw to 1st base\n",
      "\n",
      "Key concepts:\n",
      "Force out\n",
      "\n",
      "Explanation of the play:\n",
      "Prevent the runner from advancing to 2nd base by forcing them out at 1st base.\n",
      "\n",
      "Ask one thoughtful, age-appropriate Socratic question to guide the player’s decision-making.\n"
     ]
    }
   ],
   "source": [
    "# load the YAML file into graph\n",
    "yaml_file = \"batch_situations.yaml\"\n",
    "graph = load_kg_from_yaml(yaml_file)\n",
    "\n",
    "# retrieve context from graph based on a position and game situation\n",
    "game_state = \"0 outs, runner on 1st\"\n",
    "position = \"Left Field\"\n",
    "context = get_rich_context(position, game_state, graph)\n",
    "\n",
    "# print context extracted from graph\n",
    "print(\"\\n📊 Context Extracted:\")\n",
    "for k, v in context.items():\n",
    "    print(f\"{k}: {v}\")\n",
    "\n",
    "# print the context in a more readable format that will be fed to the LLM to generate a socratic question\n",
    "print(\"\\n📝 LLM Prompt:\")\n",
    "prompt = build_llm_prompt_from_context(position, game_state, context)\n",
    "print(prompt)"
   ]
  }
 ],
 "metadata": {
  "kernelspec": {
   "display_name": "Python (spaCy 3.11)",
   "language": "python",
   "name": "spacy_env"
  },
  "language_info": {
   "codemirror_mode": {
    "name": "ipython",
    "version": 3
   },
   "file_extension": ".py",
   "mimetype": "text/x-python",
   "name": "python",
   "nbconvert_exporter": "python",
   "pygments_lexer": "ipython3",
   "version": "3.11.8"
  }
 },
 "nbformat": 4,
 "nbformat_minor": 5
}
